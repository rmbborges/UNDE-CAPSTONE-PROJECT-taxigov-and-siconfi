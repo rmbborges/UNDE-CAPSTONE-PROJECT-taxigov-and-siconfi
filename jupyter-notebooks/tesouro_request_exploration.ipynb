{
 "cells": [
  {
   "cell_type": "code",
   "execution_count": 5,
   "id": "bcf953b1",
   "metadata": {
    "scrolled": true
   },
   "outputs": [],
   "source": [
    "import requests\n",
    "import pandas as pd\n",
    "from zipfile import ZipFile\n",
    "from io import BytesIO\n",
    "import datetime\n",
    "import logging\n",
    "\n",
    "headers = {\n",
    "    \"accept\": \"application/json\",\n",
    "}\n",
    "\n",
    "session = requests.Session()\n",
    "\n",
    "def get_jobs(year, month):\n",
    "    url = f\"https://apidatalake.tesouro.gov.br/ords/custos/tt/demais?organizacao=235876&ano={str(year)}&mes={str(month)}\"\n",
    "    logging.info(f\"Starting request for endpoint {url}\")\n",
    "    first_page = session.get(url)\n",
    "    first_page_content = first_page.json()\n",
    "    limit = first_page_content[\"limit\"]\n",
    "    yield first_page_content\n",
    "    \n",
    "    next_page_content = first_page_content\n",
    "    while next_page_content[\"hasMore\"] == True:\n",
    "        limit += next_page_content[\"count\"]\n",
    "        next_page_url = url + \"&offset=\" + str(limit)\n",
    "        next_page = session.get(next_page_url)\n",
    "        next_page_content = next_page.json()\n",
    "        \n",
    "        if next_page.status_code != 200:\n",
    "            break\n",
    "        yield next_page_content\n",
    "        \n",
    "data = []\n",
    "for page in get_jobs(year=2021, month=11):\n",
    "    data += page[\"items\"]\n",
    "    \n",
    "import json\n",
    "with open('./batch/data_202112.json', 'w') as f:\n",
    "    json.dump(data, f)\n",
    "        \n",
    "    "
   ]
  },
  {
   "cell_type": "code",
   "execution_count": 22,
   "id": "51f82cc7",
   "metadata": {},
   "outputs": [],
   "source": [
    "for file in [\n",
    "    \"./batch/data_202207.json\"\n",
    "]:\n",
    "\n",
    "    with open(file, 'r') as filex:\n",
    "          filedata = filex.read()\n",
    "\n",
    "    # Replace the target string\n",
    "    filedata = filedata.replace('[', '').replace(\"]\", \"\").replace(\"},\", \"}\")\n",
    "    \n",
    "    # Write the file out again\n",
    "    with open(file, 'w') as file:\n",
    "          file.write(filedata)"
   ]
  },
  {
   "cell_type": "code",
   "execution_count": null,
   "id": "d637ea1c",
   "metadata": {},
   "outputs": [],
   "source": []
  }
 ],
 "metadata": {
  "kernelspec": {
   "display_name": "Python 3 (ipykernel)",
   "language": "python",
   "name": "python3"
  },
  "language_info": {
   "codemirror_mode": {
    "name": "ipython",
    "version": 3
   },
   "file_extension": ".py",
   "mimetype": "text/x-python",
   "name": "python",
   "nbconvert_exporter": "python",
   "pygments_lexer": "ipython3",
   "version": "3.8.12"
  }
 },
 "nbformat": 4,
 "nbformat_minor": 5
}
